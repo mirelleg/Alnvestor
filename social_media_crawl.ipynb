{
 "cells": [
  {
   "cell_type": "code",
   "execution_count": 3,
   "metadata": {},
   "outputs": [
    {
     "name": "stdout",
     "output_type": "stream",
     "text": [
      "Collecting praw\n",
      "  Downloading praw-7.8.1-py3-none-any.whl.metadata (9.4 kB)\n",
      "Collecting prawcore<3,>=2.4 (from praw)\n",
      "  Downloading prawcore-2.4.0-py3-none-any.whl.metadata (5.0 kB)\n",
      "Collecting update_checker>=0.18 (from praw)\n",
      "  Downloading update_checker-0.18.0-py3-none-any.whl.metadata (2.3 kB)\n",
      "Collecting websocket-client>=0.54.0 (from praw)\n",
      "  Using cached websocket_client-1.8.0-py3-none-any.whl.metadata (8.0 kB)\n",
      "Requirement already satisfied: requests<3.0,>=2.6.0 in /Users/ritameow/mytorch/lib/python3.12/site-packages (from prawcore<3,>=2.4->praw) (2.32.3)\n",
      "Requirement already satisfied: charset-normalizer<4,>=2 in /Users/ritameow/mytorch/lib/python3.12/site-packages (from requests<3.0,>=2.6.0->prawcore<3,>=2.4->praw) (3.4.1)\n",
      "Requirement already satisfied: idna<4,>=2.5 in /Users/ritameow/mytorch/lib/python3.12/site-packages (from requests<3.0,>=2.6.0->prawcore<3,>=2.4->praw) (3.10)\n",
      "Requirement already satisfied: urllib3<3,>=1.21.1 in /Users/ritameow/mytorch/lib/python3.12/site-packages (from requests<3.0,>=2.6.0->prawcore<3,>=2.4->praw) (2.3.0)\n",
      "Requirement already satisfied: certifi>=2017.4.17 in /Users/ritameow/mytorch/lib/python3.12/site-packages (from requests<3.0,>=2.6.0->prawcore<3,>=2.4->praw) (2025.1.31)\n",
      "Downloading praw-7.8.1-py3-none-any.whl (189 kB)\n",
      "Downloading prawcore-2.4.0-py3-none-any.whl (17 kB)\n",
      "Downloading update_checker-0.18.0-py3-none-any.whl (7.0 kB)\n",
      "Using cached websocket_client-1.8.0-py3-none-any.whl (58 kB)\n",
      "Installing collected packages: websocket-client, update_checker, prawcore, praw\n",
      "Successfully installed praw-7.8.1 prawcore-2.4.0 update_checker-0.18.0 websocket-client-1.8.0\n",
      "\n",
      "\u001b[1m[\u001b[0m\u001b[34;49mnotice\u001b[0m\u001b[1;39;49m]\u001b[0m\u001b[39;49m A new release of pip is available: \u001b[0m\u001b[31;49m25.0\u001b[0m\u001b[39;49m -> \u001b[0m\u001b[32;49m25.1\u001b[0m\n",
      "\u001b[1m[\u001b[0m\u001b[34;49mnotice\u001b[0m\u001b[1;39;49m]\u001b[0m\u001b[39;49m To update, run: \u001b[0m\u001b[32;49mpip install --upgrade pip\u001b[0m\n"
     ]
    }
   ],
   "source": [
    "!pip install praw"
   ]
  },
  {
   "cell_type": "code",
   "execution_count": 12,
   "metadata": {},
   "outputs": [],
   "source": [
    "import praw\n",
    "import time\n",
    "\n",
    "# Connect to Reddit\n",
    "reddit = praw.Reddit(\n",
    "    client_id=\"hXa0VNF87XwdKlJEcwCuLA\",\n",
    "    client_secret=\"hJaEUA7bJnYw7FgY-Nr1gWzKuWDFMg\",\n",
    "    user_agent=\"AInvestor Hackathon project for LAHack\"\n",
    ")\n",
    "\n",
    "# Stock keyword to search\n",
    "keyword = \"TSLA\"\n",
    "\n",
    "# List of target subreddits\n",
    "subreddits = [\n",
    "    \"wallstreetbets\", \"Superstonk\", \"options\", \"stocks\", \"StockMarket\"\n",
    "]\n",
    "\n",
    "# Container for collected posts\n",
    "posts = []\n",
    "\n",
    "# Search posts from each subreddit\n",
    "for sub_name in subreddits:\n",
    "    try:\n",
    "        subreddit = reddit.subreddit(sub_name)\n",
    "\n",
    "        for post in subreddit.search(query=keyword, sort=\"new\", time_filter=\"month\", limit=100):\n",
    "            # Filter: text length > 50 characters and score > 10\n",
    "            if len(post.selftext) > 50 and post.score > 10:\n",
    "                posts.append({\n",
    "                    \"title\": post.title,\n",
    "                    \"text\": post.selftext,\n",
    "                    \"score\": post.score,\n",
    "                    \"created_utc\": post.created_utc,\n",
    "                    \"url\": post.url\n",
    "                })\n",
    "        \n",
    "            \n",
    "            # Stop early if already have 100 posts\n",
    "            if len(posts) >= 100:\n",
    "                break\n",
    "    \n",
    "    except Exception as e:\n",
    "        print(f\"Error accessing subreddit {sub_name}: {e}\")\n",
    "    \n",
    "    if len(posts) >= 100:\n",
    "        break\n",
    "\n",
    "# Sort posts by creation time (newest first)\n",
    "posts.sort(key=lambda x: x[\"created_utc\"], reverse=True)\n",
    "\n",
    "# Create a list of \"Title Text\" combined strings\n",
    "post_pairs = [f\"{p['title']} {p['text']}\" for p in posts]"
   ]
  }
 ],
 "metadata": {
  "kernelspec": {
   "display_name": "mytorch",
   "language": "python",
   "name": "python3"
  },
  "language_info": {
   "codemirror_mode": {
    "name": "ipython",
    "version": 3
   },
   "file_extension": ".py",
   "mimetype": "text/x-python",
   "name": "python",
   "nbconvert_exporter": "python",
   "pygments_lexer": "ipython3",
   "version": "3.12.9"
  }
 },
 "nbformat": 4,
 "nbformat_minor": 2
}
